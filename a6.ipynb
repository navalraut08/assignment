{
 "cells": [
  {
   "cell_type": "code",
   "execution_count": 1,
   "id": "1f6494bb",
   "metadata": {},
   "outputs": [
    {
     "data": {
      "text/plain": [
       "[0, 2, 1, 3, 4, 5]"
      ]
     },
     "execution_count": 1,
     "metadata": {},
     "output_type": "execute_result"
    }
   ],
   "source": [
    "#Q1\n",
    "\n",
    "def reconstruct_permutation(s):\n",
    "    n = len(s)\n",
    "    perm = []\n",
    "    start = 0\n",
    "\n",
    "    for i in range(n):\n",
    "        if s[i] == 'I':\n",
    "            perm.append(start)\n",
    "            start += 1\n",
    "        elif s[i] == 'D':\n",
    "            end = i\n",
    "            while i < n - 1 and s[i + 1] == 'D':\n",
    "                i += 1\n",
    "            reverse_sequence = list(range(start, end + 2))[::-1]\n",
    "            perm.extend(reverse_sequence)\n",
    "            start = end + 2\n",
    "\n",
    "    perm.append(start)\n",
    "    return perm\n",
    "\n",
    "#example\n",
    "s = \"IDID\"\n",
    "reconstruct_permutation(s)"
   ]
  },
  {
   "cell_type": "code",
   "execution_count": 3,
   "id": "6e941ab3",
   "metadata": {},
   "outputs": [
    {
     "data": {
      "text/plain": [
       "True"
      ]
     },
     "execution_count": 3,
     "metadata": {},
     "output_type": "execute_result"
    }
   ],
   "source": [
    "#Q2\n",
    "\n",
    "def searchMatrix(matrix, target):\n",
    "    m = len(matrix)\n",
    "    n = len(matrix[0])\n",
    "    left = 0\n",
    "    right = m * n - 1\n",
    "\n",
    "    while left <= right:\n",
    "        mid = (left + right) // 2\n",
    "        row = mid // n\n",
    "        col = mid % n\n",
    "\n",
    "        if matrix[row][col] == target:\n",
    "            return True\n",
    "        elif matrix[row][col] < target:\n",
    "            left = mid + 1\n",
    "        else:\n",
    "            right = mid - 1\n",
    "\n",
    "    return False\n",
    "\n",
    "#example\n",
    "matrix = [[1,3,5,7],[10,11,16,20],[23,30,34,60]]\n",
    "target = 3\n",
    "searchMatrix(matrix, target)"
   ]
  },
  {
   "cell_type": "code",
   "execution_count": 4,
   "id": "382594e6",
   "metadata": {},
   "outputs": [
    {
     "data": {
      "text/plain": [
       "False"
      ]
     },
     "execution_count": 4,
     "metadata": {},
     "output_type": "execute_result"
    }
   ],
   "source": [
    "#Q3\n",
    "\n",
    "def valid_mountain_array(arr):\n",
    "    if len(arr) < 3:\n",
    "        return False\n",
    "\n",
    "    i = 1\n",
    "\n",
    "    while i < len(arr) and arr[i] > arr[i-1]:\n",
    "        i += 1\n",
    "\n",
    "    if i == 1 or i == len(arr):\n",
    "        return False\n",
    "\n",
    "    while i < len(arr) and arr[i] < arr[i-1]:\n",
    "        i += 1\n",
    "\n",
    "    return i == len(arr)\n",
    "\n",
    "#example\n",
    "arr = [2,1]\n",
    "valid_mountain_array(arr)"
   ]
  },
  {
   "cell_type": "code",
   "execution_count": 5,
   "id": "4c9c99d1",
   "metadata": {},
   "outputs": [
    {
     "data": {
      "text/plain": [
       "2"
      ]
     },
     "execution_count": 5,
     "metadata": {},
     "output_type": "execute_result"
    }
   ],
   "source": [
    "#Q4\n",
    "\n",
    "def find_maxlength(nums):\n",
    "    max_length = 0\n",
    "    count = 0\n",
    "    count_map = {0: -1}\n",
    "\n",
    "    for i in range(len(nums)):\n",
    "        if nums[i] == 1:\n",
    "            count += 1\n",
    "        else:\n",
    "            count -= 1\n",
    "\n",
    "        if count == 0:\n",
    "            max_length = max(max_length, i + 1)\n",
    "        elif count in count_map:\n",
    "            max_length = max(max_length, i - count_map[count])\n",
    "\n",
    "        if count not in count_map:\n",
    "            count_map[count] = i\n",
    "\n",
    "    return max_length\n",
    "\n",
    "#example\n",
    "nums = [0,1]\n",
    "find_maxlength(nums)"
   ]
  },
  {
   "cell_type": "code",
   "execution_count": 6,
   "id": "9accd38e",
   "metadata": {},
   "outputs": [
    {
     "data": {
      "text/plain": [
       "40"
      ]
     },
     "execution_count": 6,
     "metadata": {},
     "output_type": "execute_result"
    }
   ],
   "source": [
    "#Q5\n",
    "\n",
    "def min_productsum(nums1, nums2):\n",
    "    nums1.sort()\n",
    "    nums2.sort(reverse=True)\n",
    "\n",
    "    min_product_sum = 0\n",
    "    n = len(nums1)\n",
    "\n",
    "    for i in range(n):\n",
    "        min_product_sum += nums1[i] * nums2[i]\n",
    "\n",
    "    return min_product_sum\n",
    "\n",
    "#example\n",
    "nums1 = [5,3,4,2]\n",
    "nums2 = [4,2,2,5]\n",
    "min_productsum(nums1, nums2)"
   ]
  },
  {
   "cell_type": "code",
   "execution_count": 10,
   "id": "1ea0e357",
   "metadata": {},
   "outputs": [
    {
     "data": {
      "text/plain": [
       "[]"
      ]
     },
     "execution_count": 10,
     "metadata": {},
     "output_type": "execute_result"
    }
   ],
   "source": [
    "#Q6 \n",
    "\n",
    "def find_original_array(changed):\n",
    "    if len(changed) % 2 != 0:\n",
    "        return []\n",
    "\n",
    "    count_map = {}\n",
    "    for num in changed:\n",
    "        count_map[num] = count_map.get(num, 0) + 1\n",
    "\n",
    "    original = []\n",
    "    for num in changed:\n",
    "        if count_map[num] == 0:\n",
    "            continue\n",
    "        count_map[num] -= 1\n",
    "        if num % 2 != 0 or num // 2 not in count_map or count_map[num // 2] == 0:\n",
    "            return []\n",
    "        original.append(num // 2)\n",
    "        count_map[num // 2] -= 1\n",
    "\n",
    "    return original\n",
    "\n",
    "#example\n",
    "changed = [1,3,4,2,6,8]\n",
    "find_original_array(changed)\n"
   ]
  },
  {
   "cell_type": "code",
   "execution_count": 11,
   "id": "c533fa49",
   "metadata": {},
   "outputs": [
    {
     "data": {
      "text/plain": [
       "[[1, 2, 3], [8, 9, 4], [7, 6, 5]]"
      ]
     },
     "execution_count": 11,
     "metadata": {},
     "output_type": "execute_result"
    }
   ],
   "source": [
    "#Q7\n",
    "\n",
    "def generate_matrix(n):\n",
    "    matrix = [[0] * n for _ in range(n)]\n",
    "    num = 1\n",
    "    row_start, row_end, col_start, col_end = 0, n - 1, 0, n - 1\n",
    "\n",
    "    while num <= n * n:\n",
    "        for i in range(col_start, col_end + 1):\n",
    "            matrix[row_start][i] = num\n",
    "            num += 1\n",
    "        row_start += 1\n",
    "\n",
    "        for i in range(row_start, row_end + 1):\n",
    "            matrix[i][col_end] = num\n",
    "            num += 1\n",
    "        col_end -= 1\n",
    "\n",
    "        for i in range(col_end, col_start - 1, -1):\n",
    "            matrix[row_end][i] = num\n",
    "            num += 1\n",
    "        row_end -= 1\n",
    "\n",
    "        for i in range(row_end, row_start - 1, -1):\n",
    "            matrix[i][col_start] = num\n",
    "            num += 1\n",
    "        col_start += 1\n",
    "\n",
    "    return matrix\n",
    "\n",
    "#example\n",
    "n = 3\n",
    "generate_matrix(n)"
   ]
  },
  {
   "cell_type": "code",
   "execution_count": 12,
   "id": "fb249b5f",
   "metadata": {},
   "outputs": [
    {
     "data": {
      "text/plain": [
       "[[7, 0, 0], [-7, 0, 3]]"
      ]
     },
     "execution_count": 12,
     "metadata": {},
     "output_type": "execute_result"
    }
   ],
   "source": [
    "#Q8\n",
    "\n",
    "def multiply(mat1, mat2):\n",
    "    m, k = len(mat1), len(mat1[0])\n",
    "    k2, n = len(mat2), len(mat2[0])\n",
    "    \n",
    "    result = [[0] * n for _ in range(m)]\n",
    "    \n",
    "    for row1 in range(m):\n",
    "        for col1 in range(k):\n",
    "            if mat1[row1][col1] != 0:\n",
    "                for col2 in range(n):\n",
    "                    if mat2[col1][col2] != 0:\n",
    "                        result[row1][col2] += mat1[row1][col1] * mat2[col1][col2]\n",
    "    \n",
    "    return result\n",
    "\n",
    "#example\n",
    "mat1 = [[1,0,0],[-1,0,3]]\n",
    "mat2 = [[7,0,0],[0,0,0],[0,0,1]]\n",
    "multiply(mat1, mat2)"
   ]
  },
  {
   "cell_type": "code",
   "execution_count": null,
   "id": "a2cfffd6",
   "metadata": {},
   "outputs": [],
   "source": []
  }
 ],
 "metadata": {
  "kernelspec": {
   "display_name": "Python 3 (ipykernel)",
   "language": "python",
   "name": "python3"
  },
  "language_info": {
   "codemirror_mode": {
    "name": "ipython",
    "version": 3
   },
   "file_extension": ".py",
   "mimetype": "text/x-python",
   "name": "python",
   "nbconvert_exporter": "python",
   "pygments_lexer": "ipython3",
   "version": "3.9.12"
  }
 },
 "nbformat": 4,
 "nbformat_minor": 5
}
