{
 "cells": [
  {
   "cell_type": "code",
   "execution_count": 2,
   "id": "ab6cf455",
   "metadata": {},
   "outputs": [
    {
     "data": {
      "text/plain": [
       "[[1, 2], [3, 4]]"
      ]
     },
     "execution_count": 2,
     "metadata": {},
     "output_type": "execute_result"
    }
   ],
   "source": [
    "#Q1\n",
    "\n",
    "def convert(original, m, n):\n",
    "    if len(original) != m * n:\n",
    "        return []\n",
    "    \n",
    "    result = [[0] * n for _ in range(m)]\n",
    "    for i in range(m):\n",
    "        for j in range(n):\n",
    "            result[i][j] = original[i * n + j]\n",
    "    \n",
    "    return result\n",
    "\n",
    "#example\n",
    "original = [1,2,3,4]\n",
    "m = 2\n",
    "n = 2\n",
    "convert(original, m, n)"
   ]
  },
  {
   "cell_type": "code",
   "execution_count": 3,
   "id": "8b8851b7",
   "metadata": {},
   "outputs": [
    {
     "data": {
      "text/plain": [
       "3"
      ]
     },
     "execution_count": 3,
     "metadata": {},
     "output_type": "execute_result"
    }
   ],
   "source": [
    "#Q2\n",
    "\n",
    "def count_complete_rows(n):\n",
    "    k = 0\n",
    "    while (k * (k + 1)) // 2 <= n:\n",
    "        k += 1\n",
    "    return k - 1\n",
    "\n",
    "#example\n",
    "n = 7\n",
    "count_complete_rows(n)"
   ]
  },
  {
   "cell_type": "code",
   "execution_count": 4,
   "id": "73d89dd1",
   "metadata": {},
   "outputs": [
    {
     "name": "stdout",
     "output_type": "stream",
     "text": [
      "[0, 4, 4, 25, 36]\n"
     ]
    }
   ],
   "source": [
    "#Q3\n",
    "\n",
    "def sorted_squares(nums):\n",
    "    squared = [num**2 for num in nums]\n",
    "    squared.sort()\n",
    "    return squared\n",
    "\n",
    "#example\n",
    "nums = [-5, -2, 0, 2, 6]\n",
    "result = sorted_squares(nums)\n",
    "print(result)\n"
   ]
  },
  {
   "cell_type": "code",
   "execution_count": 5,
   "id": "97214b5c",
   "metadata": {},
   "outputs": [
    {
     "data": {
      "text/plain": [
       "[[1, 3], [4, 6]]"
      ]
     },
     "execution_count": 5,
     "metadata": {},
     "output_type": "execute_result"
    }
   ],
   "source": [
    "#Q4\n",
    "\n",
    "def find_disjoint(nums1, nums2):\n",
    "    set_nums1 = set(nums1)\n",
    "    set_nums2 = set(nums2)\n",
    "    \n",
    "    distinct_nums1 = set_nums1 - set_nums2\n",
    "    distinct_nums2 = set_nums2 - set_nums1\n",
    "    \n",
    "    return [list(distinct_nums1), list(distinct_nums2)]\n",
    "\n",
    "nums1 = [1,2,3]\n",
    "nums2 = [2,4,6]\n",
    "find_disjoint(nums1, nums2)"
   ]
  },
  {
   "cell_type": "code",
   "execution_count": 6,
   "id": "07ac1be2",
   "metadata": {},
   "outputs": [
    {
     "data": {
      "text/plain": [
       "2"
      ]
     },
     "execution_count": 6,
     "metadata": {},
     "output_type": "execute_result"
    }
   ],
   "source": [
    "#Q5\n",
    "\n",
    "def distance_value(arr1, arr2, d):\n",
    "    distance = 0\n",
    "    \n",
    "    for num1 in arr1:\n",
    "        has_close_element = False\n",
    "        for num2 in arr2:\n",
    "            if abs(num1 - num2) <= d:\n",
    "                has_close_element = True\n",
    "                break\n",
    "        if not has_close_element:\n",
    "            distance += 1\n",
    "    \n",
    "    return distance\n",
    "\n",
    "#example\n",
    "arr1 = [4,5,8]\n",
    "arr2 = [10,9,1,8]\n",
    "d = 2\n",
    "distance_value(arr1, arr2, d)"
   ]
  },
  {
   "cell_type": "code",
   "execution_count": 7,
   "id": "326fd3e1",
   "metadata": {},
   "outputs": [
    {
     "name": "stdout",
     "output_type": "stream",
     "text": [
      "[2, 3]\n"
     ]
    }
   ],
   "source": [
    "#Q6\n",
    "\n",
    "def find_duplicates(nums):\n",
    "    result = []\n",
    "    for num in nums:\n",
    "        index = abs(num) - 1\n",
    "        if nums[index] < 0:\n",
    "            result.append(abs(num))\n",
    "        else:\n",
    "            nums[index] *= -1\n",
    "    return result\n",
    "\n",
    "#eaxmple\n",
    "nums = [4, 3, 2, 7, 8, 2, 3, 1]\n",
    "result = find_duplicates(nums)\n",
    "print(result)\n"
   ]
  },
  {
   "cell_type": "code",
   "execution_count": 8,
   "id": "a9d4d314",
   "metadata": {},
   "outputs": [
    {
     "data": {
      "text/plain": [
       "1"
      ]
     },
     "execution_count": 8,
     "metadata": {},
     "output_type": "execute_result"
    }
   ],
   "source": [
    "#Q7\n",
    "\n",
    "def find_minimum(nums):\n",
    "    left = 0\n",
    "    right = len(nums) - 1\n",
    "    \n",
    "    while left < right:\n",
    "        mid = (left + right) // 2\n",
    "        \n",
    "        if nums[mid] > nums[right]:\n",
    "            left = mid + 1\n",
    "        else:\n",
    "            right = mid\n",
    "    \n",
    "    return nums[left]\n",
    "\n",
    "#example\n",
    "nums = [3,4,5,1,2]\n",
    "find_minimum(nums)"
   ]
  },
  {
   "cell_type": "code",
   "execution_count": 23,
   "id": "7b7b8c51",
   "metadata": {},
   "outputs": [
    {
     "data": {
      "text/plain": [
       "[]"
      ]
     },
     "execution_count": 23,
     "metadata": {},
     "output_type": "execute_result"
    }
   ],
   "source": [
    "#Q8\n",
    "\n",
    "def find_original(changed):\n",
    "    original_set = set(changed)\n",
    "    \n",
    "    for num in changed:\n",
    "        if num % 2 != 0 or num // 2 not in original_set:\n",
    "            return []\n",
    "        original_set.remove(num // 2)\n",
    "    \n",
    "    return list(original_set)\n",
    "\n",
    "#example\n",
    "changed =[1,3,4,2,6,8]\n",
    "find_original(changed)\n"
   ]
  },
  {
   "cell_type": "code",
   "execution_count": null,
   "id": "99ae0bd5",
   "metadata": {},
   "outputs": [],
   "source": []
  }
 ],
 "metadata": {
  "kernelspec": {
   "display_name": "Python 3 (ipykernel)",
   "language": "python",
   "name": "python3"
  },
  "language_info": {
   "codemirror_mode": {
    "name": "ipython",
    "version": 3
   },
   "file_extension": ".py",
   "mimetype": "text/x-python",
   "name": "python",
   "nbconvert_exporter": "python",
   "pygments_lexer": "ipython3",
   "version": "3.9.12"
  }
 },
 "nbformat": 4,
 "nbformat_minor": 5
}
