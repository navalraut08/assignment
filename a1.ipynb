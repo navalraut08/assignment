{
 "cells": [
  {
   "cell_type": "code",
   "execution_count": 2,
   "id": "9fb59909-a62e-4232-8089-1165c3c1a312",
   "metadata": {},
   "outputs": [
    {
     "name": "stdout",
     "output_type": "stream",
     "text": [
      "[2, 3]\n"
     ]
    }
   ],
   "source": [
    "#Q1\n",
    "\n",
    "def Sum(nums, target):\n",
    "    \n",
    "    num_to_index = {}\n",
    "    \n",
    "    for i, num in enumerate(nums):\n",
    "        complement = target - num\n",
    "        \n",
    "        if complement in num_to_index:\n",
    "            return [num_to_index[complement], i]\n",
    "        num_to_index[num] = i\n",
    "    \n",
    "    return []  \n",
    "\n",
    "# Example\n",
    "nums = [1,2,3,4,5]\n",
    "target = 7\n",
    "result = twoSum(nums, target)\n",
    "print(result) \n"
   ]
  },
  {
   "cell_type": "code",
   "execution_count": 9,
   "id": "7da5519a-bdeb-45f1-b04a-e0f486b8a112",
   "metadata": {},
   "outputs": [
    {
     "data": {
      "text/plain": [
       "2"
      ]
     },
     "execution_count": 9,
     "metadata": {},
     "output_type": "execute_result"
    }
   ],
   "source": [
    "#Q2\n",
    "\n",
    "def removeElement(nums, val):\n",
    "    k = 0\n",
    "    for i in range(len(nums)):\n",
    "        if nums[i] != val:\n",
    "            nums[k] = nums[i]\n",
    "            k += 1\n",
    "            \n",
    "    return k\n",
    "\n",
    "nums = [3,2,2,3]\n",
    "val = 3\n",
    "removeElement(nums, val)"
   ]
  },
  {
   "cell_type": "code",
   "execution_count": 12,
   "id": "6f08197c-bbf0-4087-a0dd-cf9cf3e3f963",
   "metadata": {},
   "outputs": [
    {
     "data": {
      "text/plain": [
       "6"
      ]
     },
     "execution_count": 12,
     "metadata": {},
     "output_type": "execute_result"
    }
   ],
   "source": [
    "#Q3\n",
    "\n",
    "def search(nums, target):\n",
    "    left, right = 0, len(nums) - 1\n",
    "    \n",
    "    while left <= right:\n",
    "        mid = left + (right - left) // 2\n",
    "        \n",
    "        if nums[mid] == target:\n",
    "            return mid\n",
    "        elif nums[mid] > target:\n",
    "            right = mid - 1\n",
    "        else:\n",
    "            left = mid + 1\n",
    "            \n",
    "    return left\n",
    "#example\n",
    "nums = [1,3,5,6,4,5,7]\n",
    "target = 7\n",
    "search(nums,target)"
   ]
  },
  {
   "cell_type": "code",
   "execution_count": 2,
   "id": "7a9daee0-bac0-407d-a7d8-7b4b4dd6f3e9",
   "metadata": {},
   "outputs": [
    {
     "data": {
      "text/plain": [
       "[1, 2, 3, 4, 5, 7]"
      ]
     },
     "execution_count": 2,
     "metadata": {},
     "output_type": "execute_result"
    }
   ],
   "source": [
    "#Q4\n",
    "\n",
    "def function(digits):\n",
    "    \n",
    "    carry = 1\n",
    "    \n",
    "    for i in range(len(digits)-1, -1, -1):\n",
    "        digits[i] += carry\n",
    "        digits[i] %= 10\n",
    "        carry = digits[i] // 10\n",
    "        if carry == 0:\n",
    "            break\n",
    "    if carry != 0:\n",
    "        digits.insert(0, carry)\n",
    "        \n",
    "    return digits\n",
    "#example\n",
    "digits = [1,2,3,4,5,6]\n",
    "function(digits)"
   ]
  },
  {
   "cell_type": "code",
   "execution_count": 27,
   "id": "11a5e924-4d59-4b75-b319-29177395bef3",
   "metadata": {},
   "outputs": [],
   "source": [
    "#Q5\n",
    "\n",
    "def merge(nums1, m, nums2, n):\n",
    "    a1 = m - 1\n",
    "    a2 = n - 1\n",
    "    a = m + n - 1\n",
    "\n",
    "    while a1 >= 0 and a2 >= 0:\n",
    "        if nums1[a1] > nums2[a2]:\n",
    "            nums1[a] = nums1[a1]\n",
    "            a1 -= 1\n",
    "        else:\n",
    "            nums1[a] = nums2[a2]\n",
    "            a2 -= 1\n",
    "        a -= 1\n",
    "\n",
    "    while a2 >= 0:\n",
    "        nums1[a] = nums2[a2]\n",
    "        a2 -= 1\n",
    "        a -= 1"
   ]
  },
  {
   "cell_type": "code",
   "execution_count": 9,
   "id": "a19f51a0-cfdd-41db-8b25-0487a30fdab9",
   "metadata": {},
   "outputs": [
    {
     "name": "stdout",
     "output_type": "stream",
     "text": [
      "True\n",
      "False\n"
     ]
    }
   ],
   "source": [
    "#Q6\n",
    "def function(nums):\n",
    "    \n",
    "    a = set()\n",
    "    \n",
    "    for num in nums:\n",
    "        if num in a:\n",
    "            return True\n",
    "        \n",
    "        a.add(num)\n",
    "    return False\n",
    "\n",
    "#example\n",
    "nums = [1,2,3,1]\n",
    "print(function(nums))\n",
    "nums = [1,2,3,5]\n",
    "print(function(nums))"
   ]
  },
  {
   "cell_type": "code",
   "execution_count": 18,
   "id": "64e2dcd1-0392-4091-9bee-ae278afadf18",
   "metadata": {},
   "outputs": [
    {
     "data": {
      "text/plain": [
       "[1, 3, 12, 0, 0]"
      ]
     },
     "execution_count": 18,
     "metadata": {},
     "output_type": "execute_result"
    }
   ],
   "source": [
    "#Q7\n",
    "\n",
    "def function(nums):\n",
    "    nonZeroIndex = 0\n",
    "    \n",
    "    for i in range(len(nums)):\n",
    "        if nums[i] != 0:\n",
    "            nums[i], nums[nonZeroIndex] = nums[nonZeroIndex], nums[i]\n",
    "            nonZeroIndex += 1\n",
    "            \n",
    "    for i in range(nonZeroIndex, len(nums)):\n",
    "        nums[i] = 0\n",
    "\n",
    "#example\n",
    "nums = [0,1,0,3,12]\n",
    "function(nums)\n",
    "nums"
   ]
  },
  {
   "cell_type": "code",
   "execution_count": 22,
   "id": "ad4b16b5-354b-4f28-bf5d-36deafdd93e6",
   "metadata": {},
   "outputs": [
    {
     "data": {
      "text/plain": [
       "[4, 6]"
      ]
     },
     "execution_count": 22,
     "metadata": {},
     "output_type": "execute_result"
    }
   ],
   "source": [
    "#Q8\n",
    "\n",
    "def function(nums):\n",
    "    seen = set()\n",
    "    duplicate = 0\n",
    "    missing = 0\n",
    "    \n",
    "    for num in nums:\n",
    "        if num in seen:\n",
    "            duplicate = num\n",
    "        seen.add(num)\n",
    "        \n",
    "    for i in range(1, len(nums) + 1):\n",
    "        if i not in seen:\n",
    "            missing = i\n",
    "            break\n",
    "            \n",
    "    return [duplicate, missing]\n",
    "\n",
    "#example\n",
    "nums = [1,2,3,4,4,5,7]\n",
    "function(nums)\n"
   ]
  },
  {
   "cell_type": "code",
   "execution_count": null,
   "id": "46e04cf4-9bd4-407b-81dd-1fc964fc40bd",
   "metadata": {},
   "outputs": [],
   "source": []
  }
 ],
 "metadata": {
  "kernelspec": {
   "display_name": "Python 3 (ipykernel)",
   "language": "python",
   "name": "python3"
  },
  "language_info": {
   "codemirror_mode": {
    "name": "ipython",
    "version": 3
   },
   "file_extension": ".py",
   "mimetype": "text/x-python",
   "name": "python",
   "nbconvert_exporter": "python",
   "pygments_lexer": "ipython3",
   "version": "3.10.6"
  }
 },
 "nbformat": 4,
 "nbformat_minor": 5
}
