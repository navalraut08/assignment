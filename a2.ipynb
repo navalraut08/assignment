{
 "cells": [
  {
   "cell_type": "code",
   "execution_count": 3,
   "id": "5c986c2a",
   "metadata": {},
   "outputs": [
    {
     "name": "stdout",
     "output_type": "stream",
     "text": [
      "4\n"
     ]
    }
   ],
   "source": [
    "#Q1\n",
    "\n",
    "def sum(nums):\n",
    "    nums.sort()\n",
    "    pair_sum = 0\n",
    "    \n",
    "    for i in range(0, len(nums), 2):\n",
    "        pair_sum += nums[i]  \n",
    "    \n",
    "    return pair_sum\n",
    "\n",
    "nums = [1, 4, 3, 2]\n",
    "print(sum(nums))\n"
   ]
  },
  {
   "cell_type": "code",
   "execution_count": 4,
   "id": "7f5d9cc9",
   "metadata": {},
   "outputs": [
    {
     "name": "stdout",
     "output_type": "stream",
     "text": [
      "3\n"
     ]
    }
   ],
   "source": [
    "#Q2\n",
    "\n",
    "def distribute_candies(candyType):\n",
    "    unique_candies = set(candyType)\n",
    "    limit = len(candyType) // 2\n",
    "    return min(len(unique_candies), limit)\n",
    "\n",
    "candyType = [1, 1, 2, 2, 3, 3]\n",
    "print(distribute_candies(candyType))\n",
    "\n"
   ]
  },
  {
   "cell_type": "code",
   "execution_count": 5,
   "id": "62825b00",
   "metadata": {},
   "outputs": [
    {
     "name": "stdout",
     "output_type": "stream",
     "text": [
      "5\n"
     ]
    }
   ],
   "source": [
    "#Q3\n",
    "\n",
    "from collections import defaultdict\n",
    "\n",
    "def find_LHS(nums):\n",
    "    freq = defaultdict(int)\n",
    "    max_length = 0\n",
    "    \n",
    "    for num in nums:\n",
    "        freq[num] += 1\n",
    "        \n",
    "    for num in nums:\n",
    "        if num + 1 in freq:\n",
    "            length = freq[num] + freq[num + 1]\n",
    "            max_length = max(max_length, length)\n",
    "    \n",
    "    return max_length\n",
    "\n",
    "nums = [1, 3, 2, 2, 5, 2, 3, 7]\n",
    "print(find_LHS(nums))\n"
   ]
  },
  {
   "cell_type": "code",
   "execution_count": 7,
   "id": "8e17e10f",
   "metadata": {},
   "outputs": [
    {
     "name": "stdout",
     "output_type": "stream",
     "text": [
      "True\n"
     ]
    }
   ],
   "source": [
    "#Q4\n",
    "\n",
    "def place_flowers(flowerbed, n):\n",
    "    count = 0\n",
    "    length = len(flowerbed)\n",
    "    i = 0\n",
    "\n",
    "    while i < length:\n",
    "        if flowerbed[i] == 0 and (i == 0 or flowerbed[i - 1] == 0) and (i == length - 1 or flowerbed[i + 1] == 0):\n",
    "            flowerbed[i] = 1\n",
    "            count += 1\n",
    "        i += 1\n",
    "\n",
    "    return count >= n\n",
    "\n",
    "flowerbed = [1, 0, 0, 0, 1]\n",
    "n = 1\n",
    "print(place_flowers(flowerbed, n))\n"
   ]
  },
  {
   "cell_type": "code",
   "execution_count": 9,
   "id": "83a03b5e",
   "metadata": {},
   "outputs": [
    {
     "name": "stdout",
     "output_type": "stream",
     "text": [
      "24\n"
     ]
    }
   ],
   "source": [
    "#Q5\n",
    "\n",
    "def max_product(nums):\n",
    "    nums.sort()  # Sort the array\n",
    "    \n",
    "    # Product of three largest positive numbers\n",
    "    max_product1 = nums[-1] * nums[-2] * nums[-3]\n",
    "    \n",
    "    # Product of two smallest negative numbers and largest positive number\n",
    "    max_product2 = nums[0] * nums[1] * nums[-1]\n",
    "    \n",
    "    return max(max_product1, max_product2)\n",
    "\n",
    "nums = [1, 2, 3, 4]\n",
    "print(max_product(nums))\n"
   ]
  },
  {
   "cell_type": "code",
   "execution_count": 10,
   "id": "81448e7b",
   "metadata": {},
   "outputs": [
    {
     "name": "stdout",
     "output_type": "stream",
     "text": [
      "4\n"
     ]
    }
   ],
   "source": [
    "#Q6\n",
    "\n",
    "def search(nums, target):\n",
    "    left = 0\n",
    "    right = len(nums) - 1\n",
    "\n",
    "    while left <= right:\n",
    "        mid = (left + right) // 2\n",
    "\n",
    "        if nums[mid] == target:\n",
    "            return mid\n",
    "        elif nums[mid] > target:\n",
    "            right = mid - 1\n",
    "        else:\n",
    "            left = mid + 1\n",
    "\n",
    "    return -1\n",
    "\n",
    "nums = [-1, 0, 3, 5, 9, 12]\n",
    "target = 9\n",
    "print(search(nums, target))\n"
   ]
  },
  {
   "cell_type": "code",
   "execution_count": 11,
   "id": "142cca9d",
   "metadata": {},
   "outputs": [
    {
     "name": "stdout",
     "output_type": "stream",
     "text": [
      "True\n",
      "True\n",
      "False\n"
     ]
    }
   ],
   "source": [
    "#Q7\n",
    "\n",
    "def is_monotonic(nums):\n",
    "    is_increasing = True\n",
    "    is_decreasing = True\n",
    "\n",
    "    for i in range(1, len(nums)):\n",
    "        if nums[i] > nums[i - 1]:\n",
    "            is_decreasing = False\n",
    "        elif nums[i] < nums[i - 1]:\n",
    "            is_increasing = False\n",
    "\n",
    "        if not is_increasing and not is_decreasing:\n",
    "            return False\n",
    "\n",
    "    return True\n",
    "\n",
    "\n",
    "nums1 = [1, 2, 2, 3]\n",
    "print(is_monotonic(nums1))\n",
    "\n",
    "nums2 = [6, 5, 4, 4]\n",
    "print(is_monotonic(nums2))\n",
    "\n",
    "nums3 = [1, 3, 2]\n",
    "print(is_monotonic(nums3))\n"
   ]
  },
  {
   "cell_type": "code",
   "execution_count": 12,
   "id": "9a4bddb5",
   "metadata": {},
   "outputs": [
    {
     "name": "stdout",
     "output_type": "stream",
     "text": [
      "0\n"
     ]
    }
   ],
   "source": [
    "#Q8\n",
    "\n",
    "def min_difference(nums, k):\n",
    "    min_num = float('inf')\n",
    "    max_num = float('-inf')\n",
    "\n",
    "    for num in nums:\n",
    "        min_num = min(min_num, num)\n",
    "        max_num = max(max_num, num)\n",
    "\n",
    "    potential_min_diff = max_num - k - (min_num + k)\n",
    "\n",
    "    return max(0, potential_min_diff)\n",
    "\n",
    "nums = [1, 3, 6]\n",
    "k = 3\n",
    "print(min_difference(nums, k))\n"
   ]
  },
  {
   "cell_type": "code",
   "execution_count": null,
   "id": "52b294bb",
   "metadata": {},
   "outputs": [],
   "source": []
  }
 ],
 "metadata": {
  "kernelspec": {
   "display_name": "Python 3 (ipykernel)",
   "language": "python",
   "name": "python3"
  },
  "language_info": {
   "codemirror_mode": {
    "name": "ipython",
    "version": 3
   },
   "file_extension": ".py",
   "mimetype": "text/x-python",
   "name": "python",
   "nbconvert_exporter": "python",
   "pygments_lexer": "ipython3",
   "version": "3.9.12"
  }
 },
 "nbformat": 4,
 "nbformat_minor": 5
}
