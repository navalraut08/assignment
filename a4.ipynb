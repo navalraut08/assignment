{
 "cells": [
  {
   "cell_type": "code",
   "execution_count": 2,
   "id": "cec953e2",
   "metadata": {},
   "outputs": [
    {
     "data": {
      "text/plain": [
       "[1, 5]"
      ]
     },
     "execution_count": 2,
     "metadata": {},
     "output_type": "execute_result"
    }
   ],
   "source": [
    "#Q1\n",
    "\n",
    "def common_elements(arr1, arr2, arr3):\n",
    "    ptr1, ptr2, ptr3 = 0, 0, 0\n",
    "    result = []\n",
    "\n",
    "    while ptr1 < len(arr1) and ptr2 < len(arr2) and ptr3 < len(arr3):\n",
    "        if arr1[ptr1] == arr2[ptr2] == arr3[ptr3]:\n",
    "            result.append(arr1[ptr1])\n",
    "            ptr1 += 1\n",
    "            ptr2 += 1\n",
    "            ptr3 += 1\n",
    "        elif arr1[ptr1] <= arr2[ptr2] and arr1[ptr1] <= arr3[ptr3]:\n",
    "            ptr1 += 1\n",
    "        elif arr2[ptr2] <= arr1[ptr1] and arr2[ptr2] <= arr3[ptr3]:\n",
    "            ptr2 += 1\n",
    "        else:\n",
    "            ptr3 += 1\n",
    "\n",
    "    return result\n",
    "\n",
    "#example\n",
    "\n",
    "arr1 = [1,2,3,4,5]\n",
    "arr2 = [1,2,5,7,9]\n",
    "arr3 = [1,3,4,5,8]\n",
    "\n",
    "common_elements(arr1, arr2, arr3)"
   ]
  },
  {
   "cell_type": "code",
   "execution_count": 3,
   "id": "cc8dccac",
   "metadata": {},
   "outputs": [
    {
     "data": {
      "text/plain": [
       "[[1, 3], [4, 6]]"
      ]
     },
     "execution_count": 3,
     "metadata": {},
     "output_type": "execute_result"
    }
   ],
   "source": [
    "#Q2\n",
    "\n",
    "def missing_elements(nums1, nums2):\n",
    "    nums1_set = set(nums1)\n",
    "    nums2_set = set(nums2)\n",
    "\n",
    "    diff_nums1 = set()\n",
    "    diff_nums2 = set()\n",
    "\n",
    "    for num in nums1_set:\n",
    "        if num not in nums2_set:\n",
    "            diff_nums1.add(num)\n",
    "\n",
    "    for num in nums2_set:\n",
    "        if num not in nums1_set:\n",
    "            diff_nums2.add(num)\n",
    "\n",
    "    return [list(diff_nums1), list(diff_nums2)]\n",
    "\n",
    "#example\n",
    "\n",
    "nums1 = [1,2,3]\n",
    "nums2 = [2,4,6]\n",
    "missing_elements(nums1, nums2)"
   ]
  },
  {
   "cell_type": "code",
   "execution_count": 4,
   "id": "3dfb810d",
   "metadata": {},
   "outputs": [
    {
     "data": {
      "text/plain": [
       "[[1, 4, 7], [2, 5, 8], [3, 6, 9]]"
      ]
     },
     "execution_count": 4,
     "metadata": {},
     "output_type": "execute_result"
    }
   ],
   "source": [
    "#Q3\n",
    "\n",
    "def transpose(matrix):\n",
    "    rows = len(matrix)\n",
    "    columns = len(matrix[0])\n",
    "    transpose = [[0 for _ in range(rows)] for _ in range(columns)]\n",
    "\n",
    "    for i in range(rows):\n",
    "        for j in range(columns):\n",
    "            transpose[j][i] = matrix[i][j]\n",
    "\n",
    "    return transpose\n",
    "\n",
    "#example\n",
    "\n",
    "matrix = [[1,2,3],[4,5,6],[7,8,9]]\n",
    "transpose(matrix)"
   ]
  },
  {
   "cell_type": "code",
   "execution_count": 5,
   "id": "a2440c41",
   "metadata": {},
   "outputs": [
    {
     "data": {
      "text/plain": [
       "4"
      ]
     },
     "execution_count": 5,
     "metadata": {},
     "output_type": "execute_result"
    }
   ],
   "source": [
    "#Q4\n",
    "\n",
    "def pair_sum(nums):\n",
    "    nums.sort()\n",
    "    max_sum = 0\n",
    "\n",
    "    for i in range(0, len(nums), 2):\n",
    "        max_sum += nums[i]\n",
    "\n",
    "    return max_sum\n",
    "\n",
    "#example\n",
    "\n",
    "nums = [1,4,3,2]\n",
    "pair_sum(nums)"
   ]
  },
  {
   "cell_type": "code",
   "execution_count": 6,
   "id": "4bdc0801",
   "metadata": {},
   "outputs": [
    {
     "data": {
      "text/plain": [
       "2"
      ]
     },
     "execution_count": 6,
     "metadata": {},
     "output_type": "execute_result"
    }
   ],
   "source": [
    "#Q5\n",
    "\n",
    "def arrange_coins(n):\n",
    "    left = 0\n",
    "    right = n\n",
    "\n",
    "    while left <= right:\n",
    "        mid = left + (right - left) // 2\n",
    "        total = (mid * (mid + 1)) // 2\n",
    "\n",
    "        if total <= n:\n",
    "            left = mid + 1\n",
    "        else:\n",
    "            right = mid - 1\n",
    "\n",
    "    return left - 1\n",
    "\n",
    "#example\n",
    "\n",
    "n = 5\n",
    "arrange_coins(n)"
   ]
  },
  {
   "cell_type": "code",
   "execution_count": 7,
   "id": "b539af13",
   "metadata": {},
   "outputs": [
    {
     "data": {
      "text/plain": [
       "[0, 1, 9, 16, 100]"
      ]
     },
     "execution_count": 7,
     "metadata": {},
     "output_type": "execute_result"
    }
   ],
   "source": [
    "#Q6\n",
    "\n",
    "def sorted_squares(nums):\n",
    "    n = len(nums)\n",
    "    result = [0] * n\n",
    "    left, right = 0, n - 1\n",
    "\n",
    "    for i in range(n - 1, -1, -1):\n",
    "        if abs(nums[left]) > abs(nums[right]):\n",
    "            result[i] = nums[left] ** 2\n",
    "            left += 1\n",
    "        else:\n",
    "            result[i] = nums[right] ** 2\n",
    "            right -= 1\n",
    "\n",
    "    return result\n",
    "\n",
    "#example\n",
    "nums = [-4,-1,0,3,10]\n",
    "sorted_squares(nums)"
   ]
  },
  {
   "cell_type": "code",
   "execution_count": 8,
   "id": "d6a32110",
   "metadata": {},
   "outputs": [
    {
     "data": {
      "text/plain": [
       "9"
      ]
     },
     "execution_count": 8,
     "metadata": {},
     "output_type": "execute_result"
    }
   ],
   "source": [
    "#Q7\n",
    "\n",
    "def max_count(m, n, ops):\n",
    "    max_val = 0\n",
    "\n",
    "    for op in ops:\n",
    "        ai, bi = op[0], op[1]\n",
    "        max_val = max(max_val, ai * bi)\n",
    "\n",
    "    return max_val\n",
    "\n",
    "#example\n",
    "\n",
    "m = 3\n",
    "n = 3\n",
    "ops = [[2,2],[3,3]]\n",
    "max_count(m, n, ops)"
   ]
  },
  {
   "cell_type": "code",
   "execution_count": 9,
   "id": "0c3b4398",
   "metadata": {},
   "outputs": [
    {
     "data": {
      "text/plain": [
       "[2, 3, 5, 4, 1, 7]"
      ]
     },
     "execution_count": 9,
     "metadata": {},
     "output_type": "execute_result"
    }
   ],
   "source": [
    "#Q8 \n",
    "\n",
    "def rearrange_array(nums):\n",
    "    n = len(nums) // 2\n",
    "    left = nums[:n]\n",
    "    right = nums[n:]\n",
    "    result = []\n",
    "\n",
    "    for i in range(n):\n",
    "        result.append(left[i])\n",
    "        result.append(right[i])\n",
    "\n",
    "    return result\n",
    "\n",
    "#example\n",
    "\n",
    "nums = [2,5,1,3,4,7]\n",
    "n = 3\n",
    "rearrange_array(nums)"
   ]
  },
  {
   "cell_type": "code",
   "execution_count": null,
   "id": "15979b7a",
   "metadata": {},
   "outputs": [],
   "source": []
  }
 ],
 "metadata": {
  "kernelspec": {
   "display_name": "Python 3 (ipykernel)",
   "language": "python",
   "name": "python3"
  },
  "language_info": {
   "codemirror_mode": {
    "name": "ipython",
    "version": 3
   },
   "file_extension": ".py",
   "mimetype": "text/x-python",
   "name": "python",
   "nbconvert_exporter": "python",
   "pygments_lexer": "ipython3",
   "version": "3.9.12"
  }
 },
 "nbformat": 4,
 "nbformat_minor": 5
}
