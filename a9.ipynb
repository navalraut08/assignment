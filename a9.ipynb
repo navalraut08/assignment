{
 "cells": [
  {
   "cell_type": "code",
   "execution_count": 12,
   "id": "a3d4289a",
   "metadata": {},
   "outputs": [
    {
     "name": "stdout",
     "output_type": "stream",
     "text": [
      "True\n",
      "False\n"
     ]
    }
   ],
   "source": [
    "#Q1\n",
    "\n",
    "def power_two(n):\n",
    "    if n <= 0:\n",
    "        return False\n",
    "    return n & (n - 1) == 0\n",
    "\n",
    "#example\n",
    "n = 4\n",
    "print(power_two(n))\n",
    "n= 7\n",
    "print(power_two(n))"
   ]
  },
  {
   "cell_type": "code",
   "execution_count": 14,
   "id": "396f319a",
   "metadata": {},
   "outputs": [
    {
     "name": "stdout",
     "output_type": "stream",
     "text": [
      "15\n",
      "21\n"
     ]
    }
   ],
   "source": [
    "#Q2\n",
    "\n",
    "def sum(n):\n",
    "    return (n * (n + 1)) // 2\n",
    "\n",
    "#example\n",
    "print(sum(5))\n",
    "print(sum(6))\n"
   ]
  },
  {
   "cell_type": "code",
   "execution_count": 15,
   "id": "983068f4",
   "metadata": {},
   "outputs": [
    {
     "data": {
      "text/plain": [
       "24"
      ]
     },
     "execution_count": 15,
     "metadata": {},
     "output_type": "execute_result"
    }
   ],
   "source": [
    "#Q3\n",
    "\n",
    "def factorial(N):\n",
    "    result = 1\n",
    "    for i in range(1, N + 1):\n",
    "        result *= i\n",
    "    return result\n",
    "\n",
    "#example\n",
    "N = 4\n",
    "factorial(N)"
   ]
  },
  {
   "cell_type": "code",
   "execution_count": 16,
   "id": "7e864143",
   "metadata": {},
   "outputs": [
    {
     "data": {
      "text/plain": [
       "25"
      ]
     },
     "execution_count": 16,
     "metadata": {},
     "output_type": "execute_result"
    }
   ],
   "source": [
    "#Q4\n",
    "\n",
    "def exponent(N, P):\n",
    "    result = pow(N, P)\n",
    "    return result\n",
    "\n",
    "N = 5\n",
    "P = 2\n",
    "exponent(N,P)"
   ]
  },
  {
   "cell_type": "code",
   "execution_count": 22,
   "id": "d6403f77",
   "metadata": {},
   "outputs": [
    {
     "name": "stdout",
     "output_type": "stream",
     "text": [
      "11\n"
     ]
    }
   ],
   "source": [
    "#Q5\n",
    "\n",
    "def find_max(arr, start, end):\n",
    "\n",
    "    if start == end:\n",
    "        return arr[start]\n",
    "\n",
    "    mid = (start + end) // 2\n",
    "    left_max = find_max(arr, start, mid)\n",
    "    right_max = find_max(arr, mid + 1, end)\n",
    "\n",
    "    return max(left_max, right_max)\n",
    "\n",
    "#example\n",
    "arr = [5, 8, 3, 11, 2, 7]\n",
    "max_element = findMax(arr, 0, len(arr) - 1)\n",
    "print(max_element)  "
   ]
  },
  {
   "cell_type": "code",
   "execution_count": 23,
   "id": "ce5e88eb",
   "metadata": {},
   "outputs": [
    {
     "data": {
      "text/plain": [
       "6"
      ]
     },
     "execution_count": 23,
     "metadata": {},
     "output_type": "execute_result"
    }
   ],
   "source": [
    "#Q6\n",
    "\n",
    "def find(a, d, N):\n",
    "    nth_term = a + (N - 1) * d\n",
    "    return nth_term\n",
    "\n",
    "#example\n",
    "a = 2\n",
    "d = 1\n",
    "N = 5\n",
    "find(a, d, N)\n"
   ]
  },
  {
   "cell_type": "code",
   "execution_count": 27,
   "id": "22ef8bde",
   "metadata": {},
   "outputs": [
    {
     "name": "stdout",
     "output_type": "stream",
     "text": [
      "ABC\n",
      "ACB\n",
      "BAC\n",
      "BCA\n",
      "CBA\n",
      "CAB\n"
     ]
    }
   ],
   "source": [
    "#Q7\n",
    "\n",
    "def permute(s, left, right):\n",
    "    if left == right:\n",
    "        print(\"\".join(s))\n",
    "    else:\n",
    "        for i in range(left, right + 1):\n",
    "            s[left], s[i] = s[i], s[left] \n",
    "            permute(s, left + 1, right)  \n",
    "            s[left], s[i] = s[i], s[left]  \n",
    "\n",
    "def permutations(S):\n",
    "    s = list(S) \n",
    "    n = len(s)\n",
    "    permute(s, 0, n - 1)\n",
    "\n",
    "#example\n",
    "S = \"ABC\"\n",
    "permutations(S)"
   ]
  },
  {
   "cell_type": "code",
   "execution_count": 29,
   "id": "4b4dfd64",
   "metadata": {},
   "outputs": [
    {
     "data": {
      "text/plain": [
       "120"
      ]
     },
     "execution_count": 29,
     "metadata": {},
     "output_type": "execute_result"
    }
   ],
   "source": [
    "#Q8\n",
    "\n",
    "def product(arr):\n",
    "    product = 1\n",
    "    for num in arr:\n",
    "        product *= num\n",
    "    return product\n",
    "\n",
    "#example\n",
    "arr = {1, 2, 3, 4, 5}\n",
    "product(arr)    \n"
   ]
  },
  {
   "cell_type": "code",
   "execution_count": null,
   "id": "b83589b5",
   "metadata": {},
   "outputs": [],
   "source": []
  }
 ],
 "metadata": {
  "kernelspec": {
   "display_name": "Python 3 (ipykernel)",
   "language": "python",
   "name": "python3"
  },
  "language_info": {
   "codemirror_mode": {
    "name": "ipython",
    "version": 3
   },
   "file_extension": ".py",
   "mimetype": "text/x-python",
   "name": "python",
   "nbconvert_exporter": "python",
   "pygments_lexer": "ipython3",
   "version": "3.9.12"
  }
 },
 "nbformat": 4,
 "nbformat_minor": 5
}
