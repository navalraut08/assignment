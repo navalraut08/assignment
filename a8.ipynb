{
 "cells": [
  {
   "cell_type": "code",
   "execution_count": 9,
   "id": "1944680e",
   "metadata": {},
   "outputs": [
    {
     "data": {
      "text/plain": [
       "231"
      ]
     },
     "execution_count": 9,
     "metadata": {},
     "output_type": "execute_result"
    }
   ],
   "source": [
    "#Q1\n",
    "\n",
    "def min_delete_sum(s1, s2):\n",
    "    m, n = len(s1), len(s2)\n",
    "\n",
    "    # Create a 2D table to store the LCS lengths\n",
    "    dp = [[0] * (n + 1) for _ in range(m + 1)]\n",
    "\n",
    "    # Calculate the LCS lengths\n",
    "    for i in range(1, m + 1):\n",
    "        for j in range(1, n + 1):\n",
    "            if s1[i - 1] == s2[j - 1]:\n",
    "                dp[i][j] = dp[i - 1][j - 1] + ord(s1[i - 1])\n",
    "            else:\n",
    "                dp[i][j] = max(dp[i - 1][j], dp[i][j - 1])\n",
    "\n",
    "    # Calculate the sum of ASCII values of deleted characters\n",
    "    sum_ascii = sum(ord(ch) for ch in s1) + sum(ord(ch) for ch in s2) - 2 * dp[m][n]\n",
    "\n",
    "    return sum_ascii\n",
    "\n",
    "#example\n",
    "s1 = \"sea\"\n",
    "s2 = \"eat\"\n",
    "min_delete_sum(s1, s2)"
   ]
  },
  {
   "cell_type": "code",
   "execution_count": 10,
   "id": "21a89acd",
   "metadata": {},
   "outputs": [
    {
     "data": {
      "text/plain": [
       "True"
      ]
     },
     "execution_count": 10,
     "metadata": {},
     "output_type": "execute_result"
    }
   ],
   "source": [
    "#Q2\n",
    "\n",
    "def check_valid_string(s):\n",
    "    stack = []\n",
    "    asterisks = []\n",
    "\n",
    "    for i, ch in enumerate(s):\n",
    "        if ch == '(':\n",
    "            stack.append(i)\n",
    "        elif ch == '*':\n",
    "            asterisks.append(i)\n",
    "        else: \n",
    "            if stack:\n",
    "                stack.pop()\n",
    "            elif asterisks:\n",
    "                asterisks.pop()\n",
    "            else:\n",
    "                return False\n",
    "\n",
    "    while stack and asterisks:\n",
    "        if stack[-1] > asterisks[-1]:\n",
    "            return False\n",
    "        stack.pop()\n",
    "        asterisks.pop()\n",
    "\n",
    "    return len(stack) == 0\n",
    "\n",
    "#example\n",
    "s = \"()\"\n",
    "check_valid_string(s)"
   ]
  },
  {
   "cell_type": "code",
   "execution_count": 11,
   "id": "e93f8c75",
   "metadata": {},
   "outputs": [
    {
     "data": {
      "text/plain": [
       "2"
      ]
     },
     "execution_count": 11,
     "metadata": {},
     "output_type": "execute_result"
    }
   ],
   "source": [
    "#Q3\n",
    "\n",
    "def min_distance(word1, word2):\n",
    "    m, n = len(word1), len(word2)\n",
    "\n",
    "    \n",
    "    dp = [[0] * (n + 1) for _ in range(m + 1)]\n",
    "\n",
    "    \n",
    "    for i in range(1, m + 1):\n",
    "        for j in range(1, n + 1):\n",
    "            if word1[i - 1] == word2[j - 1]:\n",
    "                dp[i][j] = dp[i - 1][j - 1] + 1\n",
    "            else:\n",
    "                dp[i][j] = max(dp[i - 1][j], dp[i][j - 1])\n",
    "\n",
    "    lcs_length = dp[m][n]\n",
    "    steps = (m - lcs_length) + (n - lcs_length)\n",
    "\n",
    "    return steps\n",
    "\n",
    "#example\n",
    "word1 = \"sea\"\n",
    "word2 = \"eat\"\n",
    "min_distance(word1, word2)"
   ]
  },
  {
   "cell_type": "code",
   "execution_count": 17,
   "id": "84ec3317",
   "metadata": {},
   "outputs": [],
   "source": [
    "#Q4\n",
    "\n",
    "class tree_node:\n",
    "    def __init__(self, val=0, left=None, right=None):\n",
    "        self.val = val\n",
    "        self.left = left\n",
    "        self.right = right\n",
    "\n",
    "\n",
    "def str_tree(s):\n",
    "    if not s:\n",
    "        return None\n",
    "\n",
    "    # Find the value of the root node\n",
    "    i = 0\n",
    "    while i < len(s) and (s[i].isdigit() or s[i] == '-'):\n",
    "        i += 1\n",
    "    val = int(s[:i])\n",
    "\n",
    "    # Create the root node\n",
    "    root = tree_node(val)\n",
    "\n",
    "    if i < len(s):\n",
    "        # Find the substring for the left child tree\n",
    "        j = i + 1\n",
    "        count = 1\n",
    "        while j < len(s) and count != 0:\n",
    "            if s[j] == '(':\n",
    "                count += 1\n",
    "            elif s[j] == ')':\n",
    "                count -= 1\n",
    "            j += 1\n",
    "\n",
    "        # Recursively construct the left child tree\n",
    "        root.left = str_tree(s[i + 1:j - 1])\n",
    "\n",
    "        if j < len(s):\n",
    "            # Find the substring for the right child tree\n",
    "            k = j + 1\n",
    "            count = 1\n",
    "            while k < len(s) and count != 0:\n",
    "                if s[k] == '(':\n",
    "                    count += 1\n",
    "                elif s[k] == ')':\n",
    "                    count -= 1\n",
    "                k += 1\n",
    "\n",
    "            root.right = str_tree(s[j + 1:k - 1])\n",
    "\n",
    "    return root\n",
    "\n"
   ]
  },
  {
   "cell_type": "code",
   "execution_count": 18,
   "id": "c3234905",
   "metadata": {},
   "outputs": [
    {
     "data": {
      "text/plain": [
       "6"
      ]
     },
     "execution_count": 18,
     "metadata": {},
     "output_type": "execute_result"
    }
   ],
   "source": [
    "#Q5\n",
    "\n",
    "def compress(chars):\n",
    "    n = len(chars)\n",
    "    write = 0\n",
    "    count = 1\n",
    "\n",
    "    for read in range(1, n + 1):\n",
    "        if read < n and chars[read] == chars[read - 1]:\n",
    "            count += 1\n",
    "        else:\n",
    "            chars[write] = chars[read - 1]\n",
    "            write += 1\n",
    "\n",
    "            if count > 1:\n",
    "                count_str = str(count)\n",
    "                for digit in count_str:\n",
    "                    chars[write] = digit\n",
    "                    write += 1\n",
    "\n",
    "            count = 1\n",
    "\n",
    "    return write\n",
    "\n",
    "#example\n",
    "chars = [\"a\",\"a\",\"b\",\"b\",\"c\",\"c\",\"c\"]\n",
    "compress(chars)"
   ]
  },
  {
   "cell_type": "code",
   "execution_count": 19,
   "id": "a362a1fb",
   "metadata": {},
   "outputs": [
    {
     "data": {
      "text/plain": [
       "[0, 6]"
      ]
     },
     "execution_count": 19,
     "metadata": {},
     "output_type": "execute_result"
    }
   ],
   "source": [
    "#Q6\n",
    "\n",
    "from collections import Counter\n",
    "\n",
    "\n",
    "def find_anagrams(s, p):\n",
    "    result = []\n",
    "    m, n = len(p), len(s)\n",
    "\n",
    "    if m > n:\n",
    "        return result\n",
    "\n",
    "    p_freq = Counter(p)\n",
    "    window_freq = Counter(s[:m])\n",
    "\n",
    "    if window_freq == p_freq:\n",
    "        result.append(0)\n",
    "\n",
    "    for i in range(m, n):\n",
    "        if window_freq[s[i - m]] == 1:\n",
    "            del window_freq[s[i - m]]\n",
    "        else:\n",
    "            window_freq[s[i - m]] -= 1\n",
    "\n",
    "        window_freq[s[i]] += 1\n",
    "\n",
    "        if window_freq == p_freq:\n",
    "            result.append(i - m + 1)\n",
    "\n",
    "    return result\n",
    "\n",
    "#example\n",
    "s = \"cbaebabacd\"\n",
    "p = \"abc\"\n",
    "find_anagrams(s, p)"
   ]
  },
  {
   "cell_type": "code",
   "execution_count": 20,
   "id": "f87a7641",
   "metadata": {},
   "outputs": [
    {
     "data": {
      "text/plain": [
       "'aaabcbc'"
      ]
     },
     "execution_count": 20,
     "metadata": {},
     "output_type": "execute_result"
    }
   ],
   "source": [
    "#Q7\n",
    "\n",
    "def decode_string(s):\n",
    "    stack = []\n",
    "    current_string = \"\"\n",
    "    current_number = 0\n",
    "\n",
    "    for char in s:\n",
    "        if char.isdigit():\n",
    "            current_number = current_number * 10 + int(char)\n",
    "        elif char == \"[\":\n",
    "            stack.append((current_string, current_number))\n",
    "            current_string = \"\"\n",
    "            current_number = 0\n",
    "        elif char == \"]\":\n",
    "            prev_string, repeat_times = stack.pop()\n",
    "            current_string = prev_string + current_string * repeat_times\n",
    "        else:\n",
    "            current_string += char\n",
    "\n",
    "    return current_string\n",
    "\n",
    "#example\n",
    "s = \"3[a]2[bc]\"\n",
    "decode_string(s)"
   ]
  },
  {
   "cell_type": "code",
   "execution_count": 21,
   "id": "9d5a8c88",
   "metadata": {},
   "outputs": [
    {
     "data": {
      "text/plain": [
       "True"
      ]
     },
     "execution_count": 21,
     "metadata": {},
     "output_type": "execute_result"
    }
   ],
   "source": [
    "#Q8\n",
    "\n",
    "def buddy_strings(s, goal):\n",
    "    if len(s) != len(goal):\n",
    "        return False\n",
    "\n",
    "    if s == goal:\n",
    "        \n",
    "        seen = set()\n",
    "        for ch in s:\n",
    "            if ch in seen:\n",
    "                return True\n",
    "            seen.add(ch)\n",
    "        return False\n",
    "\n",
    "    diff_indices = []\n",
    "    for i in range(len(s)):\n",
    "        if s[i] != goal[i]:\n",
    "            diff_indices.append(i)\n",
    "\n",
    "    return len(diff_indices) == 2 and s[diff_indices[0]] == goal[diff_indices[1]] and s[diff_indices[1]] == goal[diff_indices[0]]\n",
    "\n",
    "#example\n",
    "s = \"ab\"\n",
    "goal = \"ba\"\n",
    "buddy_strings(s, goal)"
   ]
  },
  {
   "cell_type": "code",
   "execution_count": null,
   "id": "eae4c3ca",
   "metadata": {},
   "outputs": [],
   "source": []
  }
 ],
 "metadata": {
  "kernelspec": {
   "display_name": "Python 3 (ipykernel)",
   "language": "python",
   "name": "python3"
  },
  "language_info": {
   "codemirror_mode": {
    "name": "ipython",
    "version": 3
   },
   "file_extension": ".py",
   "mimetype": "text/x-python",
   "name": "python",
   "nbconvert_exporter": "python",
   "pygments_lexer": "ipython3",
   "version": "3.9.12"
  }
 },
 "nbformat": 4,
 "nbformat_minor": 5
}
