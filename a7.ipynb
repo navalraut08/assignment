{
 "cells": [
  {
   "cell_type": "code",
   "execution_count": 10,
   "id": "ac54f3f8",
   "metadata": {},
   "outputs": [
    {
     "data": {
      "text/plain": [
       "True"
      ]
     },
     "execution_count": 10,
     "metadata": {},
     "output_type": "execute_result"
    }
   ],
   "source": [
    "#Q1\n",
    "\n",
    "def is_isomorphic(s, t):\n",
    "    if len(s) != len(t):\n",
    "        return False\n",
    "    \n",
    "    s_map = {}\n",
    "    t_map = {}\n",
    "    \n",
    "    for s_char, t_char in zip(s, t):\n",
    "        if s_char in s_map:\n",
    "            if s_map[s_char] != t_char:\n",
    "                return False\n",
    "        else:\n",
    "            s_map[s_char] = t_char\n",
    "        \n",
    "        if t_char in t_map:\n",
    "            if t_map[t_char] != s_char:\n",
    "                return False\n",
    "        else:\n",
    "            t_map[t_char] = s_char\n",
    "    \n",
    "    return True\n",
    "\n",
    "#example\n",
    "s = \"egg\"\n",
    "t = \"add\"\n",
    "is_isomorphic(s, t)"
   ]
  },
  {
   "cell_type": "code",
   "execution_count": 12,
   "id": "85116312",
   "metadata": {},
   "outputs": [
    {
     "data": {
      "text/plain": [
       "True"
      ]
     },
     "execution_count": 12,
     "metadata": {},
     "output_type": "execute_result"
    }
   ],
   "source": [
    "#Q2\n",
    "\n",
    "def is_strobogrammatic(num):\n",
    "    strob_pairs = [('0', '0'), ('1', '1'), ('6', '9'), ('8', '8'), ('9', '6')]\n",
    "    left, right = 0, len(num) - 1\n",
    "\n",
    "    while left <= right:\n",
    "        pair = (num[left], num[right])\n",
    "        if pair not in strob_pairs:\n",
    "            return False\n",
    "        left += 1\n",
    "        right -= 1\n",
    "\n",
    "    return True\n",
    "\n",
    "#example\n",
    "num = \"69\"\n",
    "is_strobogrammatic(num)"
   ]
  },
  {
   "cell_type": "code",
   "execution_count": 13,
   "id": "a6c7b0d4",
   "metadata": {},
   "outputs": [
    {
     "data": {
      "text/plain": [
       "'134'"
      ]
     },
     "execution_count": 13,
     "metadata": {},
     "output_type": "execute_result"
    }
   ],
   "source": [
    "#Q3\n",
    "\n",
    "def add_strings(num1, num2):\n",
    "    result = \"\"\n",
    "    i, j = len(num1) - 1, len(num2) - 1\n",
    "    carry = 0\n",
    "    \n",
    "    while i >= 0 or j >= 0:\n",
    "        digit1 = int(num1[i]) if i >= 0 else 0\n",
    "        digit2 = int(num2[j]) if j >= 0 else 0\n",
    "        current_sum = (digit1 + digit2 + carry) % 10\n",
    "        carry = (digit1 + digit2 + carry) // 10\n",
    "        result = str(current_sum) + result\n",
    "        i -= 1\n",
    "        j -= 1\n",
    "    \n",
    "    if carry != 0:\n",
    "        result = str(carry) + result\n",
    "    \n",
    "    return result\n",
    "\n",
    "#example\n",
    "num1 = \"11\"\n",
    "num2 = \"123\"\n",
    "add_strings(num1,num2)\n"
   ]
  },
  {
   "cell_type": "code",
   "execution_count": 14,
   "id": "8c2753d6",
   "metadata": {},
   "outputs": [
    {
     "data": {
      "text/plain": [
       "\"s'teL ekat edoCteeL tsetnoc\""
      ]
     },
     "execution_count": 14,
     "metadata": {},
     "output_type": "execute_result"
    }
   ],
   "source": [
    "#Q4\n",
    "\n",
    "def reverse(s):\n",
    "    words = s.split()\n",
    "    reversed_words = [word[::-1] for word in words]\n",
    "    return ' '.join(reversed_words)\n",
    "\n",
    "#example\n",
    "s = \"Let's take LeetCode contest\"\n",
    "reverse(s)"
   ]
  },
  {
   "cell_type": "code",
   "execution_count": 15,
   "id": "fda35138",
   "metadata": {},
   "outputs": [
    {
     "data": {
      "text/plain": [
       "'bacdfeg'"
      ]
     },
     "execution_count": 15,
     "metadata": {},
     "output_type": "execute_result"
    }
   ],
   "source": [
    "#Q5\n",
    "\n",
    "def reverse_str(s, k):\n",
    "    def reverse_substring(left, right):\n",
    "        while left < right:\n",
    "            s[left], s[right] = s[right], s[left]\n",
    "            left += 1\n",
    "            right -= 1\n",
    "\n",
    "    s = list(s)\n",
    "    n = len(s)\n",
    "    left = 0\n",
    "\n",
    "    while left < n:\n",
    "        right = min(left + k - 1, n - 1)\n",
    "        reverse_substring(left, right)\n",
    "        left += 2 * k\n",
    "\n",
    "    return ''.join(s)\n",
    "\n",
    "#example\n",
    "s = \"abcdefg\"\n",
    "k = 2\n",
    "reverse_str(s,k)"
   ]
  },
  {
   "cell_type": "code",
   "execution_count": 16,
   "id": "fd617645",
   "metadata": {},
   "outputs": [
    {
     "data": {
      "text/plain": [
       "True"
      ]
     },
     "execution_count": 16,
     "metadata": {},
     "output_type": "execute_result"
    }
   ],
   "source": [
    "#Q6\n",
    "\n",
    "def rotate_String(s, goal):\n",
    "    if len(s) != len(goal):\n",
    "        return False\n",
    "    \n",
    "    s_concat = s + s\n",
    "    return goal in s_concat\n",
    "\n",
    "#example\n",
    "s = \"abcde\"\n",
    "goal = \"cdeab\"\n",
    "rotate_String(s, goal)"
   ]
  },
  {
   "cell_type": "code",
   "execution_count": 7,
   "id": "4cfcd23c",
   "metadata": {},
   "outputs": [],
   "source": [
    "#Q7\n",
    "\n",
    "def backspace_compare(s, t):\n",
    "    def remove_backspaces(string):\n",
    "        stack = []\n",
    "        for char in string:\n",
    "            if char != '#':\n",
    "                stack.append(char)\n",
    "            elif stack:\n",
    "                stack.pop()\n",
    "        return ''.join(stack)\n",
    "    \n",
    "    def process_string(string):\n",
    "        return remove_backspaces(string)\n",
    "    \n",
    "    processed_s = process_string(s)\n",
    "    processed_t = process_string(t)\n",
    "    \n",
    "    return processed_s == processed_t\n",
    "\n",
    "#example\n",
    "\n"
   ]
  },
  {
   "cell_type": "code",
   "execution_count": 1,
   "id": "9a032eac",
   "metadata": {},
   "outputs": [
    {
     "data": {
      "text/plain": [
       "True"
      ]
     },
     "execution_count": 1,
     "metadata": {},
     "output_type": "execute_result"
    }
   ],
   "source": [
    "#Q8\n",
    "\n",
    "def check_straight_line(coordinates):\n",
    "    \n",
    "    # Calculate the slope between the first two points\n",
    "    x0, y0 = coordinates[0]\n",
    "    x1, y1 = coordinates[1]\n",
    "    \n",
    "    if x1 - x0 != 0:\n",
    "        slope = (y1 - y0) / (x1 - x0)\n",
    "    else:\n",
    "        slope = float('inf')  \n",
    "\n",
    "    # Check the slope between the remaining points\n",
    "    \n",
    "    for i in range(2, len(coordinates)):\n",
    "        xi, yi = coordinates[i]\n",
    "        if x1 - xi != 0:\n",
    "            current_slope = (y1 - yi) / (x1 - xi)\n",
    "        else:\n",
    "            current_slope = float('inf')\n",
    "\n",
    "        \n",
    "        if current_slope != slope:\n",
    "            return False\n",
    "\n",
    "    return True\n",
    "\n",
    "coordinates = [[1,2],[2,3],[3,4],[4,5],[5,6],[6,7]]\n",
    "check_straight_line(coordinates)"
   ]
  },
  {
   "cell_type": "code",
   "execution_count": null,
   "id": "ef811904",
   "metadata": {},
   "outputs": [],
   "source": []
  }
 ],
 "metadata": {
  "kernelspec": {
   "display_name": "Python 3 (ipykernel)",
   "language": "python",
   "name": "python3"
  },
  "language_info": {
   "codemirror_mode": {
    "name": "ipython",
    "version": 3
   },
   "file_extension": ".py",
   "mimetype": "text/x-python",
   "name": "python",
   "nbconvert_exporter": "python",
   "pygments_lexer": "ipython3",
   "version": "3.9.12"
  }
 },
 "nbformat": 4,
 "nbformat_minor": 5
}
